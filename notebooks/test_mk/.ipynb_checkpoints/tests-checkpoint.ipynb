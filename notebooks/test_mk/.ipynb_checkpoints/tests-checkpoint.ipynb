{
 "cells": [
  {
   "cell_type": "code",
   "execution_count": 5,
   "metadata": {},
   "outputs": [
    {
     "name": "stderr",
     "output_type": "stream",
     "text": [
      "/usr/local/lib/python3.7/site-packages/psycopg2/__init__.py:144: UserWarning: The psycopg2 wheel package will be renamed from release 2.8; in order to keep installing from binary please use \"pip install psycopg2-binary\" instead. For details see: <http://initd.org/psycopg/docs/install.html#binary-install-from-pypi>.\n",
      "  \"\"\")\n"
     ]
    }
   ],
   "source": [
    "import psycopg2\n",
    "import dns.resolver as DNSResolver\n",
    "import subprocess\n",
    "import re"
   ]
  },
  {
   "cell_type": "code",
   "execution_count": 18,
   "metadata": {},
   "outputs": [
    {
     "name": "stdout",
     "output_type": "stream",
     "text": [
      "{'user': 'postgres', 'dbname': 'afrinic_db', 'host': '127.0.0.1', 'port': '5432', 'tty': '', 'options': '', 'sslmode': 'prefer', 'sslcompression': '0', 'krbsrvname': 'postgres', 'target_session_attrs': 'any'} \n",
      "\n"
     ]
    }
   ],
   "source": [
    "connection = psycopg2.connect(user = \"postgres\", password = \"kenneth1996\", host = \"127.0.0.1\", port = \"5432\", database = \"afrinic_db\")\n",
    "connection.autocommit = True\n",
    "cursor = connection.cursor()\n",
    "# Print PostgreSQL Connection properties\n",
    "print ( connection.get_dsn_parameters(),\"\\n\")"
   ]
  },
  {
   "cell_type": "code",
   "execution_count": 19,
   "metadata": {},
   "outputs": [],
   "source": [
    "def db_insert_func(data_list: list, tabname: str ,columns: list):\n",
    "    try :\n",
    "        data = data_list.__str__().replace('[','').replace(']','')\n",
    "        cols = columns.__str__().replace('[','').replace(']','').replace(\"'\",\"\")\n",
    "        sql_statement = \"\"\"INSERT INTO {}({}) VALUES({})\"\"\".format(tabname, cols, data)\n",
    "        cursor.execute(sql_statement)\n",
    "        res = True\n",
    "    except Exception as e:\n",
    "        res = False\n",
    "        print(e)\n",
    "    return res"
   ]
  },
  {
   "cell_type": "code",
   "execution_count": 20,
   "metadata": {},
   "outputs": [
    {
     "data": {
      "text/plain": [
       "'reverse_ns, ns_type, nameserver, ip_type'"
      ]
     },
     "execution_count": 20,
     "metadata": {},
     "output_type": "execute_result"
    }
   ],
   "source": [
    "data_list = ['41.in-addr.arpa.', 'NS', 'ns1.afrinic.net.', 'v4']\n",
    "tab = 'edns_reverse'\n",
    "cols = ['reverse_ns', 'ns_type', 'nameserver','ip_type']\n",
    "cols.__str__().replace('[','').replace(']','').replace(\"'\",\"\")"
   ]
  },
  {
   "cell_type": "code",
   "execution_count": 21,
   "metadata": {},
   "outputs": [
    {
     "name": "stdout",
     "output_type": "stream",
     "text": [
      "True\n"
     ]
    }
   ],
   "source": [
    "data_list = ['41.in-addr.arpa.', 'NS', 'ns1.afrinic.net.', 'v4']\n",
    "tab = 'edns_reverse'\n",
    "cols = ['reverse_ns', 'ns_type', 'nameserver','ip_type']\n",
    "print(db_insert_func(data_list, tab, cols))"
   ]
  },
  {
   "cell_type": "code",
   "execution_count": 8,
   "metadata": {},
   "outputs": [
    {
     "ename": "ProgrammingError",
     "evalue": "syntax error at or near \"DESC\"\nLINE 1: DESC edns_reverse\n        ^\n",
     "output_type": "error",
     "traceback": [
      "\u001b[0;31m---------------------------------------------------------------------------\u001b[0m",
      "\u001b[0;31mProgrammingError\u001b[0m                          Traceback (most recent call last)",
      "\u001b[0;32m<ipython-input-8-00a4523623b0>\u001b[0m in \u001b[0;36m<module>\u001b[0;34m\u001b[0m\n\u001b[1;32m      1\u001b[0m \u001b[0;31m# Print PostgreSQL version\u001b[0m\u001b[0;34m\u001b[0m\u001b[0;34m\u001b[0m\u001b[0;34m\u001b[0m\u001b[0m\n\u001b[1;32m      2\u001b[0m \u001b[0;31m#cursor.execute(\"SELECT * from edns_reverse;\")\u001b[0m\u001b[0;34m\u001b[0m\u001b[0;34m\u001b[0m\u001b[0;34m\u001b[0m\u001b[0m\n\u001b[0;32m----> 3\u001b[0;31m \u001b[0mcursor\u001b[0m\u001b[0;34m.\u001b[0m\u001b[0mexecute\u001b[0m\u001b[0;34m(\u001b[0m\u001b[0;34m\"DESC edns_reverse\"\u001b[0m\u001b[0;34m)\u001b[0m\u001b[0;34m\u001b[0m\u001b[0;34m\u001b[0m\u001b[0m\n\u001b[0m\u001b[1;32m      4\u001b[0m \u001b[0mrecord\u001b[0m \u001b[0;34m=\u001b[0m \u001b[0mcursor\u001b[0m\u001b[0;34m.\u001b[0m\u001b[0mfetchone\u001b[0m\u001b[0;34m(\u001b[0m\u001b[0;34m)\u001b[0m\u001b[0;34m\u001b[0m\u001b[0;34m\u001b[0m\u001b[0m\n\u001b[1;32m      5\u001b[0m \u001b[0mprint\u001b[0m\u001b[0;34m(\u001b[0m\u001b[0;34m\"You are connected to - \"\u001b[0m\u001b[0;34m,\u001b[0m \u001b[0mrecord\u001b[0m\u001b[0;34m)\u001b[0m\u001b[0;34m\u001b[0m\u001b[0;34m\u001b[0m\u001b[0m\n",
      "\u001b[0;31mProgrammingError\u001b[0m: syntax error at or near \"DESC\"\nLINE 1: DESC edns_reverse\n        ^\n"
     ]
    }
   ],
   "source": [
    "# Print PostgreSQL version\n",
    "cursor.execute(\"SELECT * from edns_reverse;\")\n",
    "record = cursor.fetchone()\n",
    "print(\"You are connected to - \", record)"
   ]
  },
  {
   "cell_type": "code",
   "execution_count": 6,
   "metadata": {},
   "outputs": [],
   "source": [
    "x = DNSResolver.query('google.com')"
   ]
  },
  {
   "cell_type": "code",
   "execution_count": 11,
   "metadata": {},
   "outputs": [
    {
     "data": {
      "text/plain": [
       "<DNS name google.com.>"
      ]
     },
     "execution_count": 11,
     "metadata": {},
     "output_type": "execute_result"
    }
   ],
   "source": [
    "txt = \"The rain in Spain\"\n",
    "x = re.search(\"^The.*Spain$\", txt)"
   ]
  },
  {
   "cell_type": "code",
   "execution_count": 22,
   "metadata": {},
   "outputs": [],
   "source": [
    "edns_test_dict = {'dns_plain': ['dig', '+norec', '+noedns', 'soa']\n",
    "    ,'edns_plain': ['dig', '+norec', '+edns=0', 'soa']\n",
    "    ,'edns_unknw': ['dig', '+norec', '+edns=100', '+noednsneg', 'soa']\n",
    "    ,'edns_unknwopt': ['dig', '+norec', '+ednsopt=100', 'soa']\n",
    "    ,'edns_unknwflag': ['dig', '+norec', '+ednsflags=0x80', 'soa']\n",
    "    ,'edns_dnssec': ['dig', '+norec', '+dnssec', 'soa']\n",
    "    ,'edns_trunc': ['dig', '+norec', '+dnssec', '+bufsize=512', '+ignore', 'dnskey']\n",
    "    ,'edns_unknwveropt': ['dig', '+norec', '+edns=100', '+noednsneg', '+ednsopt=100', 'soa']}"
   ]
  },
  {
   "cell_type": "code",
   "execution_count": 47,
   "metadata": {},
   "outputs": [
    {
     "data": {
      "text/plain": [
       "['dig', '+norec', '+noedns', 'soa']"
      ]
     },
     "execution_count": 47,
     "metadata": {},
     "output_type": "execute_result"
    }
   ],
   "source": []
  },
  {
   "cell_type": "code",
   "execution_count": 32,
   "metadata": {},
   "outputs": [],
   "source": [
    "def run_dig_cmd(cmd: list):\n",
    "    status = None\n",
    "    edns_version = None\n",
    "    result = subprocess.run(cmd, stdout=subprocess.PIPE).stdout.decode('utf-8').split(';;')\n",
    "    for line in result:\n",
    "        if re.search('status:', line):\n",
    "             status = line.split(',')[1].split(':')[1].strip()\n",
    "        elif re.search('EDNS: version: 0', line):\n",
    "            edns_version = 0\n",
    "    return status, edns_version, result"
   ]
  },
  {
   "cell_type": "code",
   "execution_count": 47,
   "metadata": {},
   "outputs": [],
   "source": [
    "def run_ednsComp_test(ns: str):\n",
    "    zone = '.'.join(ns.split('.')[1:])\n",
    "    # Test DNS plain resolution first\n",
    "    if run_dig_cmd(edns_test_dict['dns_plain'] + [, '@'+ns])[0] == 'NOERROR':\n",
    "        edns_plain = True if run_dig_cmd(edns_test_dict['dns_plain'] + ['.'.join(ns.split('.')[1:]), '@'+ns])[0] == 'NOERROR' else False\n",
    "    return run_dig_cmd(edns_test_dict['dns_plain'] + ['.'.join(ns.split('.')[1:]), '@'+ns])"
   ]
  },
  {
   "cell_type": "code",
   "execution_count": 48,
   "metadata": {},
   "outputs": [
    {
     "name": "stdout",
     "output_type": "stream",
     "text": [
      "('NOERROR', None, ['\\n; <<>> DiG 9.11.5-P4-5.1+b1-Debian <<>> +norec +noedns soa 3g.vodacom.co.za. @dnsinfo1-cte-pt.3g.vodacom.co.za.\\n', ' global options: +cmd\\n', ' Got answer:\\n', ' ->>HEADER<<- opcode: QUERY, status: NOERROR, id: 49475\\n', ' flags: qr aa; QUERY: 1, ANSWER: 1, AUTHORITY: 0, ADDITIONAL: 0\\n\\n', ' QUESTION SECTION:\\n;3g.vodacom.co.za.\\t\\tIN\\tSOA\\n\\n', ' ANSWER SECTION:\\n3g.vodacom.co.za.\\t28800\\tIN\\tSOA\\tdnsinfo1-cte-pt.3g.vodacom.co.za. db.vodacom.co.za. 464 10800 3600 2419200 900\\n\\n', ' Query time: 281 msec\\n', ' SERVER: 41.1.47.253#53(41.1.47.253)\\n', ' WHEN: Tue Oct 08 11:18:06 WAT 2019\\n', ' MSG SIZE  rcvd: 89\\n\\n'])\n"
     ]
    }
   ],
   "source": [
    "print(run_ednsComp_test('dnsinfo1-cte-pt.3g.vodacom.co.za.'))"
   ]
  },
  {
   "cell_type": "code",
   "execution_count": 21,
   "metadata": {},
   "outputs": [
    {
     "name": "stdout",
     "output_type": "stream",
     "text": [
      "\n",
      "; <<>> DiG 9.11.5-P4-5.1+b1-Debian <<>> google.com\n",
      ";; global options: +cmd\n",
      ";; Got answer:\n",
      ";; ->>HEADER<<- opcode: QUERY, status: NOERROR, id: 48197\n",
      ";; flags: qr rd ra; QUERY: 1, ANSWER: 1, AUTHORITY: 0, ADDITIONAL: 1\n",
      "\n",
      ";; OPT PSEUDOSECTION:\n",
      "; EDNS: version: 0, flags:; udp: 4000\n",
      ";; QUESTION SECTION:\n",
      ";google.com.\t\t\tIN\tA\n",
      "\n",
      ";; ANSWER SECTION:\n",
      "google.com.\t\t79\tIN\tA\t216.58.204.238\n",
      "\n",
      ";; Query time: 4 msec\n",
      ";; SERVER: 10.77.71.15#53(10.77.71.15)\n",
      ";; WHEN: Sun Oct 06 16:49:47 WAT 2019\n",
      ";; MSG SIZE  rcvd: 55\n",
      "\n",
      "\n"
     ]
    }
   ],
   "source": [
    "print(subprocess.run(['dig', '+norec', '+edns=0', 'soa', ], stdout=subprocess.PIPE).stdout.decode('utf-8'))"
   ]
  },
  {
   "cell_type": "code",
   "execution_count": 39,
   "metadata": {},
   "outputs": [],
   "source": [
    " test = run_dig_cmd('google.com')"
   ]
  },
  {
   "cell_type": "code",
   "execution_count": 41,
   "metadata": {},
   "outputs": [
    {
     "name": "stdout",
     "output_type": "stream",
     "text": [
      "(['\\n; <<>> DiG 9.11.5-P4-5.1+b1-Debian <<>> google.com\\n', ' global options: +cmd\\n', ' Got answer:\\n', ' ->>HEADER<<- opcode: QUERY, status: NOERROR, id: 49820\\n', ' flags: qr rd ra; QUERY: 1, ANSWER: 1, AUTHORITY: 0, ADDITIONAL: 1\\n\\n', ' OPT PSEUDOSECTION:\\n; EDNS: version: 0, flags:; udp: 4000\\n', ' QUESTION SECTION:\\n;google.com.\\t\\t\\tIN\\tA\\n\\n', ' ANSWER SECTION:\\ngoogle.com.\\t\\t300\\tIN\\tA\\t216.58.198.174\\n\\n', ' Query time: 137 msec\\n', ' SERVER: 10.77.71.15#53(10.77.71.15)\\n', ' WHEN: Sun Oct 06 17:09:39 WAT 2019\\n', ' MSG SIZE  rcvd: 55\\n\\n'], 'NOERROR')\n"
     ]
    }
   ],
   "source": [
    "print(test)"
   ]
  }
 ],
 "metadata": {
  "kernelspec": {
   "display_name": "Python 3",
   "language": "python",
   "name": "python3"
  },
  "language_info": {
   "codemirror_mode": {
    "name": "ipython",
    "version": 3
   },
   "file_extension": ".py",
   "mimetype": "text/x-python",
   "name": "python",
   "nbconvert_exporter": "python",
   "pygments_lexer": "ipython3",
   "version": "3.7.4"
  }
 },
 "nbformat": 4,
 "nbformat_minor": 4
}
