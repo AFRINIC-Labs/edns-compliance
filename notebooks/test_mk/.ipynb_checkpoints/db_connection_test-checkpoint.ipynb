{
 "cells": [
  {
   "cell_type": "code",
   "execution_count": 1,
   "metadata": {},
   "outputs": [],
   "source": [
    "import psycopg2"
   ]
  },
  {
   "cell_type": "code",
   "execution_count": 4,
   "metadata": {},
   "outputs": [
    {
     "name": "stdout",
     "output_type": "stream",
     "text": [
      "{'user': 'postgres', 'dbname': 'afrinic_db', 'host': '127.0.0.1', 'port': '5432', 'tty': '', 'options': '', 'sslmode': 'prefer', 'sslcompression': '0', 'krbsrvname': 'postgres', 'target_session_attrs': 'any'} \n",
      "\n"
     ]
    }
   ],
   "source": [
    "connection = psycopg2.connect(user = \"postgres\", password = \"kenneth1996\", host = \"127.0.0.1\", port = \"5432\", database = \"afrinic_db\")\n",
    "\n",
    "cursor = connection.cursor()\n",
    "# Print PostgreSQL Connection properties\n",
    "print ( connection.get_dsn_parameters(),\"\\n\")"
   ]
  },
  {
   "cell_type": "code",
   "execution_count": 3,
   "metadata": {},
   "outputs": [
    {
     "name": "stdout",
     "output_type": "stream",
     "text": [
      "You are connected to -  (1, '41.in-addr.arpa.', 'NS', 'ns1.afrinic.net.')\n"
     ]
    }
   ],
   "source": [
    "# Print PostgreSQL version\n",
    "cursor.execute(\"SELECT * from edns_reverse;\")\n",
    "record = cursor.fetchone()\n",
    "print(\"You are connected to - \", record)"
   ]
  }
 ],
 "metadata": {
  "kernelspec": {
   "display_name": "afrinic_internship_env",
   "language": "python",
   "name": "afrinic_internship_env"
  },
  "language_info": {
   "codemirror_mode": {
    "name": "ipython",
    "version": 3
   },
   "file_extension": ".py",
   "mimetype": "text/x-python",
   "name": "python",
   "nbconvert_exporter": "python",
   "pygments_lexer": "ipython3",
   "version": "3.7.4"
  }
 },
 "nbformat": 4,
 "nbformat_minor": 4
}
