{
 "cells": [
  {
   "cell_type": "code",
   "execution_count": 59,
   "metadata": {},
   "outputs": [],
   "source": [
    "import psycopg2\n",
    "import dns.resolver as DNSResolver\n",
    "import subprocess\n",
    "import re\n",
    "import time"
   ]
  },
  {
   "cell_type": "code",
   "execution_count": 18,
   "metadata": {},
   "outputs": [
    {
     "name": "stdout",
     "output_type": "stream",
     "text": [
      "{'user': 'postgres', 'dbname': 'afrinic_db', 'host': '127.0.0.1', 'port': '5432', 'tty': '', 'options': '', 'sslmode': 'prefer', 'sslcompression': '0', 'krbsrvname': 'postgres', 'target_session_attrs': 'any'} \n",
      "\n"
     ]
    }
   ],
   "source": [
    "connection = psycopg2.connect(user = \"postgres\", password = \"kenneth1996\", host = \"127.0.0.1\", port = \"5432\", database = \"afrinic_db\")\n",
    "connection.autocommit = True\n",
    "cursor = connection.cursor()\n",
    "# Print PostgreSQL Connection properties\n",
    "print ( connection.get_dsn_parameters(),\"\\n\")"
   ]
  },
  {
   "cell_type": "code",
   "execution_count": 19,
   "metadata": {},
   "outputs": [],
   "source": [
    "def db_insert_func(data_list: list, tabname: str ,columns: list):\n",
    "    try :\n",
    "        data = data_list.__str__().replace('[','').replace(']','')\n",
    "        cols = columns.__str__().replace('[','').replace(']','').replace(\"'\",\"\")\n",
    "        sql_statement = \"\"\"INSERT INTO {}({}) VALUES({})\"\"\".format(tabname, cols, data)\n",
    "        cursor.execute(sql_statement)\n",
    "        res = True\n",
    "    except Exception as e:\n",
    "        res = False\n",
    "        print(e)\n",
    "    return res"
   ]
  },
  {
   "cell_type": "code",
   "execution_count": 20,
   "metadata": {},
   "outputs": [
    {
     "data": {
      "text/plain": [
       "'reverse_ns, ns_type, nameserver, ip_type'"
      ]
     },
     "execution_count": 20,
     "metadata": {},
     "output_type": "execute_result"
    }
   ],
   "source": [
    "data_list = ['41.in-addr.arpa.', 'NS', 'ns1.afrinic.net.', 'v4']\n",
    "tab = 'edns_reverse'\n",
    "cols = ['reverse_ns', 'ns_type', 'nameserver','ip_type']\n",
    "cols.__str__().replace('[','').replace(']','').replace(\"'\",\"\")"
   ]
  },
  {
   "cell_type": "code",
   "execution_count": 21,
   "metadata": {},
   "outputs": [
    {
     "name": "stdout",
     "output_type": "stream",
     "text": [
      "True\n"
     ]
    }
   ],
   "source": [
    "data_list = ['41.in-addr.arpa.', 'NS', 'ns1.afrinic.net.', 'v4']\n",
    "tab = 'edns_reverse'\n",
    "cols = ['reverse_ns', 'ns_type', 'nameserver','ip_type']\n",
    "print(db_insert_func(data_list, tab, cols))"
   ]
  },
  {
   "cell_type": "code",
   "execution_count": 8,
   "metadata": {},
   "outputs": [
    {
     "ename": "ProgrammingError",
     "evalue": "syntax error at or near \"DESC\"\nLINE 1: DESC edns_reverse\n        ^\n",
     "output_type": "error",
     "traceback": [
      "\u001b[0;31m---------------------------------------------------------------------------\u001b[0m",
      "\u001b[0;31mProgrammingError\u001b[0m                          Traceback (most recent call last)",
      "\u001b[0;32m<ipython-input-8-00a4523623b0>\u001b[0m in \u001b[0;36m<module>\u001b[0;34m\u001b[0m\n\u001b[1;32m      1\u001b[0m \u001b[0;31m# Print PostgreSQL version\u001b[0m\u001b[0;34m\u001b[0m\u001b[0;34m\u001b[0m\u001b[0;34m\u001b[0m\u001b[0m\n\u001b[1;32m      2\u001b[0m \u001b[0;31m#cursor.execute(\"SELECT * from edns_reverse;\")\u001b[0m\u001b[0;34m\u001b[0m\u001b[0;34m\u001b[0m\u001b[0;34m\u001b[0m\u001b[0m\n\u001b[0;32m----> 3\u001b[0;31m \u001b[0mcursor\u001b[0m\u001b[0;34m.\u001b[0m\u001b[0mexecute\u001b[0m\u001b[0;34m(\u001b[0m\u001b[0;34m\"DESC edns_reverse\"\u001b[0m\u001b[0;34m)\u001b[0m\u001b[0;34m\u001b[0m\u001b[0;34m\u001b[0m\u001b[0m\n\u001b[0m\u001b[1;32m      4\u001b[0m \u001b[0mrecord\u001b[0m \u001b[0;34m=\u001b[0m \u001b[0mcursor\u001b[0m\u001b[0;34m.\u001b[0m\u001b[0mfetchone\u001b[0m\u001b[0;34m(\u001b[0m\u001b[0;34m)\u001b[0m\u001b[0;34m\u001b[0m\u001b[0;34m\u001b[0m\u001b[0m\n\u001b[1;32m      5\u001b[0m \u001b[0mprint\u001b[0m\u001b[0;34m(\u001b[0m\u001b[0;34m\"You are connected to - \"\u001b[0m\u001b[0;34m,\u001b[0m \u001b[0mrecord\u001b[0m\u001b[0;34m)\u001b[0m\u001b[0;34m\u001b[0m\u001b[0;34m\u001b[0m\u001b[0m\n",
      "\u001b[0;31mProgrammingError\u001b[0m: syntax error at or near \"DESC\"\nLINE 1: DESC edns_reverse\n        ^\n"
     ]
    }
   ],
   "source": [
    "# Print PostgreSQL version\n",
    "cursor.execute(\"SELECT * from edns_reverse;\")\n",
    "record = cursor.fetchone()\n",
    "print(\"You are connected to - \", record)"
   ]
  },
  {
   "cell_type": "code",
   "execution_count": 6,
   "metadata": {},
   "outputs": [],
   "source": [
    "x = DNSResolver.query('google.com')"
   ]
  },
  {
   "cell_type": "code",
   "execution_count": 11,
   "metadata": {},
   "outputs": [
    {
     "data": {
      "text/plain": [
       "<DNS name google.com.>"
      ]
     },
     "execution_count": 11,
     "metadata": {},
     "output_type": "execute_result"
    }
   ],
   "source": [
    "txt = \"The rain in Spain\"\n",
    "x = re.search(\"^The.*Spain$\", txt)"
   ]
  },
  {
   "cell_type": "code",
   "execution_count": 22,
   "metadata": {},
   "outputs": [],
   "source": [
    "edns_test_dict = {'dns_plain': ['dig', '+norec', '+noedns', 'soa']\n",
    "    ,'edns_plain': ['dig', '+norec', '+edns=0', 'soa']\n",
    "    ,'edns_unknw': ['dig', '+norec', '+edns=100', '+noednsneg', 'soa']\n",
    "    ,'edns_unknwopt': ['dig', '+norec', '+ednsopt=100', 'soa']\n",
    "    ,'edns_unknwflag': ['dig', '+norec', '+ednsflags=0x80', 'soa']\n",
    "    ,'edns_dnssec': ['dig', '+norec', '+dnssec', 'soa']\n",
    "    ,'edns_trunc': ['dig', '+norec', '+dnssec', '+bufsize=512', '+ignore', 'dnskey']\n",
    "    ,'edns_unknwveropt': ['dig', '+norec', '+edns=100', '+noednsneg', '+ednsopt=100', 'soa']}"
   ]
  },
  {
   "cell_type": "code",
   "execution_count": 32,
   "metadata": {},
   "outputs": [],
   "source": [
    "def run_dig_cmd(cmd: list):\n",
    "    status = None\n",
    "    edns_version = None\n",
    "    result = subprocess.run(cmd, stdout=subprocess.PIPE).stdout.decode('utf-8').split(';;')\n",
    "    for line in result:\n",
    "        if re.search('status:', line):\n",
    "             status = line.split(',')[1].split(':')[1].strip()\n",
    "        elif re.search('EDNS: version: 0', line):\n",
    "            edns_version = 0\n",
    "    return status, edns_version, result"
   ]
  },
  {
   "cell_type": "code",
   "execution_count": 66,
   "metadata": {},
   "outputs": [],
   "source": [
    "def run_ednsComp_test(ns: str):\n",
    "    zone = '.'.join(ns.split('.')[1:])\n",
    "    # Reset results vars\n",
    "    dns_plain, edns_plain, edns_unknw, edns_unknwopt, edns_unknwflag, edns_dnssec, edns_trunc, edns_unknwveropt = False, False, False, False, False, False, False, False\n",
    "    # Test DNS plain resolution first\n",
    "    dns_plain = True if run_dig_cmd(edns_test_dict['dns_plain'] + [zone, '@'+ns])[0] == 'NOERROR' else False\n",
    "    if dns_plain:\n",
    "        edns_plain = True if run_dig_cmd(edns_test_dict['edns_plain'] + [zone, '@'+ns])[0:2] == ('NOERROR', 0) else False\n",
    "        if edns_plain:\n",
    "            edns_unknw = True if run_dig_cmd(edns_test_dict['edns_unknw'] + [zone, '@'+ns])[0:2] == ('BADVERS', 0) else False\n",
    "            edns_unknwopt = True if run_dig_cmd(edns_test_dict['edns_unknwopt'] + [zone, '@'+ns])[0:2] == ('NOERROR', 0) else False\n",
    "            edns_unknwflag = True if run_dig_cmd(edns_test_dict['edns_unknwflag'] + [zone, '@'+ns])[0:2] == ('NOERROR', 0) else False\n",
    "            edns_dnssec = True if run_dig_cmd(edns_test_dict['edns_dnssec'] + [zone, '@'+ns])[0:2] == ('NOERROR', 0) else False\n",
    "            edns_trunc = True if run_dig_cmd(edns_test_dict['edns_trunc'] + [zone, '@'+ns])[0:2] == ('NOERROR', 0) else False\n",
    "            edns_unknwveropt = True if run_dig_cmd(edns_test_dict['edns_unknwveropt'] + [zone, '@'+ns])[0:2] == ('BADVERS', 0) else False\n",
    "    return (dns_plain, edns_plain, edns_unknw, edns_unknwopt, edns_unknwflag, edns_dnssec, edns_trunc, edns_unknwveropt)"
   ]
  },
  {
   "cell_type": "code",
   "execution_count": 67,
   "metadata": {},
   "outputs": [
    {
     "name": "stdout",
     "output_type": "stream",
     "text": [
      "(True, True, True, True, True, True, True, True)\n",
      "5.849191665649414\n"
     ]
    }
   ],
   "source": [
    "stime = time.time()\n",
    "print(run_ednsComp_test('dnsinfo1-cte-pt.3g.vodacom.co.za.'))\n",
    "print(time.time() - stime)"
   ]
  },
  {
   "cell_type": "code",
   "execution_count": 51,
   "metadata": {},
   "outputs": [
    {
     "name": "stdout",
     "output_type": "stream",
     "text": [
      "\n",
      "; <<>> DiG 9.11.5-P4-5.1+b1-Debian <<>> +norec +edns=0 soa 3g.vodacom.co.za. dnsinfo1-cte-pt.3g.vodacom.co.za.\n",
      ";; global options: +cmd\n",
      ";; Got answer:\n",
      ";; ->>HEADER<<- opcode: QUERY, status: NOERROR, id: 19182\n",
      ";; flags: qr ra; QUERY: 1, ANSWER: 0, AUTHORITY: 5, ADDITIONAL: 6\n",
      "\n",
      ";; OPT PSEUDOSECTION:\n",
      "; EDNS: version: 0, flags:; udp: 4000\n",
      ";; QUESTION SECTION:\n",
      ";3g.vodacom.co.za.\t\tIN\tSOA\n",
      "\n",
      ";; AUTHORITY SECTION:\n",
      "co.za.\t\t\t77077\tIN\tNS\tns0.is.co.za.\n",
      "co.za.\t\t\t77077\tIN\tNS\tns2.dns.business.\n",
      "co.za.\t\t\t77077\tIN\tNS\tns.coza.net.za.\n",
      "co.za.\t\t\t77077\tIN\tNS\tns3.iafrica.com.\n",
      "co.za.\t\t\t77077\tIN\tNS\tcoza1.dnsnode.net.\n",
      "\n",
      ";; ADDITIONAL SECTION:\n",
      "ns0.is.co.za.\t\t77077\tIN\tA\t196.4.160.17\n",
      "ns.coza.net.za.\t\t85482\tIN\tA\t206.223.136.200\n",
      "ns.coza.net.za.\t\t85482\tIN\tAAAA\t2001:43f8:30::200\n",
      "coza1.dnsnode.net.\t85482\tIN\tA\t194.146.106.74\n",
      "coza1.dnsnode.net.\t85482\tIN\tAAAA\t2001:67c:1010:18::53\n",
      "\n",
      ";; Query time: 4 msec\n",
      ";; SERVER: 10.77.71.15#53(10.77.71.15)\n",
      ";; WHEN: Tue Oct 08 11:25:19 WAT 2019\n",
      ";; MSG SIZE  rcvd: 286\n",
      "\n",
      ";; Got answer:\n",
      ";; ->>HEADER<<- opcode: QUERY, status: NOERROR, id: 28893\n",
      ";; flags: qr ra; QUERY: 1, ANSWER: 0, AUTHORITY: 5, ADDITIONAL: 6\n",
      "\n",
      ";; OPT PSEUDOSECTION:\n",
      "; EDNS: version: 0, flags:; udp: 4000\n",
      ";; QUESTION SECTION:\n",
      ";dnsinfo1-cte-pt.3g.vodacom.co.za. IN\tSOA\n",
      "\n",
      ";; AUTHORITY SECTION:\n",
      "co.za.\t\t\t77077\tIN\tNS\tns2.dns.business.\n",
      "co.za.\t\t\t77077\tIN\tNS\tns.coza.net.za.\n",
      "co.za.\t\t\t77077\tIN\tNS\tns3.iafrica.com.\n",
      "co.za.\t\t\t77077\tIN\tNS\tcoza1.dnsnode.net.\n",
      "co.za.\t\t\t77077\tIN\tNS\tns0.is.co.za.\n",
      "\n",
      ";; ADDITIONAL SECTION:\n",
      "ns.coza.net.za.\t\t85482\tIN\tA\t206.223.136.200\n",
      "ns.coza.net.za.\t\t85482\tIN\tAAAA\t2001:43f8:30::200\n",
      "coza1.dnsnode.net.\t85482\tIN\tA\t194.146.106.74\n",
      "coza1.dnsnode.net.\t85482\tIN\tAAAA\t2001:67c:1010:18::53\n",
      "ns0.is.co.za.\t\t77077\tIN\tA\t196.4.160.17\n",
      "\n",
      ";; Query time: 14 msec\n",
      ";; SERVER: 10.77.71.15#53(10.77.71.15)\n",
      ";; WHEN: Tue Oct 08 11:25:19 WAT 2019\n",
      ";; MSG SIZE  rcvd: 302\n",
      "\n",
      "\n"
     ]
    }
   ],
   "source": [
    "print(subprocess.run(['dig', '+norec', '+edns=0', 'soa', '3g.vodacom.co.za.','dnsinfo1-cte-pt.3g.vodacom.co.za.'], stdout=subprocess.PIPE).stdout.decode('utf-8'))"
   ]
  },
  {
   "cell_type": "code",
   "execution_count": 39,
   "metadata": {},
   "outputs": [],
   "source": [
    " test = run_dig_cmd('google.com')"
   ]
  },
  {
   "cell_type": "code",
   "execution_count": 41,
   "metadata": {},
   "outputs": [
    {
     "name": "stdout",
     "output_type": "stream",
     "text": [
      "(['\\n; <<>> DiG 9.11.5-P4-5.1+b1-Debian <<>> google.com\\n', ' global options: +cmd\\n', ' Got answer:\\n', ' ->>HEADER<<- opcode: QUERY, status: NOERROR, id: 49820\\n', ' flags: qr rd ra; QUERY: 1, ANSWER: 1, AUTHORITY: 0, ADDITIONAL: 1\\n\\n', ' OPT PSEUDOSECTION:\\n; EDNS: version: 0, flags:; udp: 4000\\n', ' QUESTION SECTION:\\n;google.com.\\t\\t\\tIN\\tA\\n\\n', ' ANSWER SECTION:\\ngoogle.com.\\t\\t300\\tIN\\tA\\t216.58.198.174\\n\\n', ' Query time: 137 msec\\n', ' SERVER: 10.77.71.15#53(10.77.71.15)\\n', ' WHEN: Sun Oct 06 17:09:39 WAT 2019\\n', ' MSG SIZE  rcvd: 55\\n\\n'], 'NOERROR')\n"
     ]
    }
   ],
   "source": [
    "print(test)"
   ]
  }
 ],
 "metadata": {
  "kernelspec": {
   "display_name": "Python 3",
   "language": "python",
   "name": "python3"
  },
  "language_info": {
   "codemirror_mode": {
    "name": "ipython",
    "version": 3
   },
   "file_extension": ".py",
   "mimetype": "text/x-python",
   "name": "python",
   "nbconvert_exporter": "python",
   "pygments_lexer": "ipython3",
   "version": "3.7.4"
  }
 },
 "nbformat": 4,
 "nbformat_minor": 4
}
